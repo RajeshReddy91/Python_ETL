{
 "cells": [
  {
   "cell_type": "code",
   "execution_count": 3,
   "metadata": {},
   "outputs": [
    {
     "name": "stdout",
     "output_type": "stream",
     "text": [
      "Total number of rows in Laptop is:  7\n",
      "\n",
      "Printing each laptop record\n",
      "Id =  2\n",
      "Name =  Area 51M\n",
      "Price  =  6999.0\n",
      "Purchase date  =  2019-04-14 \n",
      "\n",
      "Id =  3\n",
      "Name =  MacBook Pro\n",
      "Price  =  2499.0\n",
      "Purchase date  =  2019-06-20 \n",
      "\n",
      "Id =  4\n",
      "Name =  HP Pavilion Power\n",
      "Price  =  1999.0\n",
      "Purchase date  =  2019-01-11 \n",
      "\n",
      "Id =  5\n",
      "Name =  MSI WS75 9TL-496\n",
      "Price  =  5799.0\n",
      "Purchase date  =  2019-02-27 \n",
      "\n",
      "Id =  6\n",
      "Name =  Microsoft Surface\n",
      "Price  =  2330.0\n",
      "Purchase date  =  2019-07-23 \n",
      "\n",
      "Id =  7\n",
      "Name =  Acer Predator Triton\n",
      "Price  =  2435.0\n",
      "Purchase date  =  2021-02-16 \n",
      "\n",
      "Id =  10\n",
      "Name =  Lenovo ThinkPad P71\n",
      "Price  =  6459.0\n",
      "Purchase date  =  2019-08-14 \n",
      "\n",
      "MySQL connection is closed\n"
     ]
    }
   ],
   "source": [
    "# SELECT Query example to fetch rows\n",
    "\n",
    "import mysql.connector\n",
    "from mysql.connector import Error\n",
    "\n",
    "try:\n",
    "    connection = mysql.connector.connect(user='newuser', password='password',\n",
    "                                            host='127.0.0.1',\n",
    "                                          database='testdb')\n",
    "    sql_select_Query = \"select * from Laptop\"\n",
    "    cursor = connection.cursor()\n",
    "    cursor.execute(sql_select_Query)\n",
    "    records = cursor.fetchall()\n",
    "    print(\"Total number of rows in Laptop is: \", cursor.rowcount)\n",
    "\n",
    "    print(\"\\nPrinting each laptop record\")\n",
    "    for row in records:\n",
    "        print(\"Id = \", row[0], )\n",
    "        print(\"Name = \", row[1])\n",
    "        print(\"Price  = \", row[2])\n",
    "        print(\"Purchase date  = \", row[3], \"\\n\")\n",
    "\n",
    "except Error as e:\n",
    "    print(\"Error reading data from MySQL table\", e)\n",
    "finally:\n",
    "    if (connection.is_connected()):\n",
    "        connection.close()\n",
    "        cursor.close()\n",
    "        print(\"MySQL connection is closed\")"
   ]
  },
  {
   "cell_type": "code",
   "execution_count": 10,
   "metadata": {},
   "outputs": [],
   "source": [
    "# Using Python variables as parameters in MySQL Select Query\n",
    "\n",
    "import mysql.connector\n",
    "from mysql.connector import Error\n",
    "\n",
    "def getLaptopDetail(id):\n",
    "    try:\n",
    "        mySQLConnection = mysql.connector.connect(user='newuser', password='password',\n",
    "                                            host='127.0.0.1',\n",
    "                                          database='testdb')\n",
    "\n",
    "        cursor = mySQLConnection.cursor(buffered=True)\n",
    "        sql_select_query = \"\"\"select * from laptop where id = %s\"\"\"\n",
    "        cursor.execute(sql_select_query, (id,))   \n",
    "        # In Python, a tuple containing a single value must include a comma. \n",
    "        # For example, ('abc') is evaluated as a scalar while ('abc',) is evaluated as a tuple.\n",
    "        record = cursor.fetchall()\n",
    "\n",
    "        for row in record:\n",
    "            print(\"Id = \", row[0], )\n",
    "            print(\"Name = \", row[1])\n",
    "            print(\"Join Date = \", row[2])\n",
    "            print(\"Salary  = \", row[3], \"\\n\")\n",
    "\n",
    "    except mysql.connector.Error as error:\n",
    "        print(\"Failed to get record from MySQL table: {}\".format(error))\n",
    "\n",
    "    finally:\n",
    "        if (mySQLConnection.is_connected()):\n",
    "            cursor.close()\n",
    "            mySQLConnection.close()\n",
    "            print(\"MySQL connection is closed\")\n",
    "\n"
   ]
  },
  {
   "cell_type": "code",
   "execution_count": 11,
   "metadata": {},
   "outputs": [
    {
     "name": "stdout",
     "output_type": "stream",
     "text": [
      "Id =  2\n",
      "Name =  Area 51M\n",
      "Join Date =  6999.0\n",
      "Salary  =  2019-04-14 \n",
      "\n",
      "MySQL connection is closed\n"
     ]
    }
   ],
   "source": [
    "id1 = 1\n",
    "id2 = 2\n",
    "getLaptopDetail(id1)\n",
    "getLaptopDetail(id2)\n"
   ]
  },
  {
   "cell_type": "code",
   "execution_count": 34,
   "metadata": {},
   "outputs": [
    {
     "name": "stdout",
     "output_type": "stream",
     "text": [
      "Total number of rows is:  7\n",
      "Printing  2  Laptop record using cursor.fetchmany\n",
      "(2, 'Area 51M', 6999.0, datetime.date(2019, 4, 14))\n",
      "(3, 'MacBook Pro', 2499.0, datetime.date(2019, 6, 20))\n",
      "\n",
      "\n",
      "   Id         Name   Price Purchase_date\n",
      "0   2     Area 51M  6999.0    2019-04-14\n",
      "1   3  MacBook Pro  2499.0    2019-06-20\n",
      "connection is closed\n"
     ]
    }
   ],
   "source": [
    "# Select limited rows from MySQL table using cursor's fetchmany \n",
    "\n",
    "import pandas as pd\n",
    "import mysql.connector\n",
    "from mysql.connector import Error\n",
    "\n",
    "try:\n",
    "    connection = mysql.connector.connect(user='newuser', password='password',\n",
    "                                            host='127.0.0.1',\n",
    "                                          database='testdb')\n",
    "\n",
    "    mySql_select_Query = \"select * from laptop\"\n",
    "    cursor = connection.cursor(buffered=True)\n",
    "    cursor.execute(mySql_select_Query)\n",
    "    fetching_size = 2\n",
    "    records = cursor.fetchmany(fetching_size)\n",
    "\n",
    "    print(\"Total number of rows is: \", cursor.rowcount)\n",
    "    print(\"Printing \", fetching_size, \" Laptop record using cursor.fetchmany\")\n",
    "    for row in records:\n",
    "        print(row)\n",
    "    \n",
    "    # To get only 2 recods in dataframe\n",
    "    df = pd.read_sql(mySql_select_Query, connection)\n",
    "    print(\"\\n\")\n",
    "    print(df.head(2))\n",
    "        \n",
    "\n",
    "except Error as e:\n",
    "    print(\"Error while connecting to MySQL\", e)\n",
    "finally:\n",
    "    if (connection.is_connected()):\n",
    "        cursor.close()\n",
    "        connection.close()\n",
    "        print(\"connection is closed\")\n"
   ]
  },
  {
   "cell_type": "code",
   "execution_count": 36,
   "metadata": {},
   "outputs": [
    {
     "name": "stdout",
     "output_type": "stream",
     "text": [
      "(2, 'Area 51M', 6999.0, datetime.date(2019, 4, 14))\n",
      "\n",
      " MySQL connection is closed\n"
     ]
    }
   ],
   "source": [
    "# To fetch a single row from MySQL table using cursor.fetchone\n",
    "\n",
    "import mysql.connector\n",
    "from mysql.connector import Error\n",
    "\n",
    "try:\n",
    "    connection = mysql.connector.connect(user='newuser', password='password',\n",
    "                                            host='127.0.0.1',\n",
    "                                          database='testdb')\n",
    "\n",
    "    mySql_select_Query = \"select * from laptop\"\n",
    "    cursor = connection.cursor(buffered=True)\n",
    "    cursor.execute(mySql_select_Query)\n",
    "    record = cursor.fetchone()\n",
    "    print(record)\n",
    "\n",
    "except mysql.connector.Error as error:\n",
    "    print(\"Error while connecting to MySQL\", error)\n",
    "finally:\n",
    "    if (connection.is_connected()):\n",
    "        cursor.close()\n",
    "        connection.close()\n",
    "        print(\"\\n MySQL connection is closed\")"
   ]
  },
  {
   "cell_type": "code",
   "execution_count": 43,
   "metadata": {},
   "outputs": [
    {
     "name": "stdout",
     "output_type": "stream",
     "text": [
      "Laptop price is :  6999.0\n",
      "MySQL connection is closed\n"
     ]
    }
   ],
   "source": [
    "# Program to Select MySQL table’s column value into Variable\n",
    "\n",
    "import mysql.connector\n",
    "from mysql.connector import Error\n",
    "\n",
    "try:\n",
    "    connection = mysql.connector.connect(user='newuser', password='password',\n",
    "                                            host='127.0.0.1',\n",
    "                                          database='testdb')\n",
    "\n",
    "    sql_Query = \"select price from laptop where id =%s\"\n",
    "    id = (2,)\n",
    "    cursor = connection.cursor()\n",
    "    cursor.execute(sql_Query, id)\n",
    "    record = cursor.fetchone()\n",
    "\n",
    "    # selecting column value into varible\n",
    "    price = float(record[0])\n",
    "    print(\"Laptop price is : \", price)\n",
    "\n",
    "except mysql.connector.Error as error:\n",
    "    print(\"Failed to get record from database: {}\".format(error))\n",
    "\n",
    "finally:\n",
    "    if (connection.is_connected()):\n",
    "        cursor.close()\n",
    "        connection.close()\n",
    "        print(\"MySQL connection is closed\")"
   ]
  },
  {
   "cell_type": "code",
   "execution_count": null,
   "metadata": {},
   "outputs": [],
   "source": []
  }
 ],
 "metadata": {
  "kernelspec": {
   "display_name": "Python 3",
   "language": "python",
   "name": "python3"
  },
  "language_info": {
   "codemirror_mode": {
    "name": "ipython",
    "version": 3
   },
   "file_extension": ".py",
   "mimetype": "text/x-python",
   "name": "python",
   "nbconvert_exporter": "python",
   "pygments_lexer": "ipython3",
   "version": "3.7.4"
  }
 },
 "nbformat": 4,
 "nbformat_minor": 2
}
