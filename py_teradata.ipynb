{
 "cells": [
  {
   "cell_type": "code",
   "execution_count": 4,
   "metadata": {},
   "outputs": [],
   "source": [
    "import pyodbc\n",
    "#pyodbc.drivers()"
   ]
  },
  {
   "cell_type": "code",
   "execution_count": 22,
   "metadata": {},
   "outputs": [
    {
     "ename": "OperationalError",
     "evalue": "('08001', u\"[08001] [WSock32 DLL] 10065 WSA E HostUnreach: The Teradata server can't currently be reached over this network (10065) (SQLDriverConnect)\")",
     "output_type": "error",
     "traceback": [
      "\u001b[1;31m---------------------------------------------------------------------------\u001b[0m",
      "\u001b[1;31mOperationalError\u001b[0m                          Traceback (most recent call last)",
      "\u001b[1;32m<ipython-input-22-5338f6da57c8>\u001b[0m in \u001b[0;36m<module>\u001b[1;34m()\u001b[0m\n\u001b[0;32m     11\u001b[0m                       \u001b[0mUID\u001b[0m\u001b[1;33m=\u001b[0m\u001b[1;34m'ag28744'\u001b[0m\u001b[1;33m,\u001b[0m \u001b[1;31m# Database='T1H_ETL_VIEWS_CDL_XM',\u001b[0m\u001b[1;33m\u001b[0m\u001b[0m\n\u001b[0;32m     12\u001b[0m                       \u001b[0mAuthentication\u001b[0m\u001b[1;33m=\u001b[0m\u001b[1;34m'LDAP'\u001b[0m\u001b[1;33m,\u001b[0m\u001b[1;33m\u001b[0m\u001b[0m\n\u001b[1;32m---> 13\u001b[1;33m                       PWD='Windows09')\n\u001b[0m\u001b[0;32m     14\u001b[0m \u001b[1;33m\u001b[0m\u001b[0m\n\u001b[0;32m     15\u001b[0m \u001b[1;31m# Define Cursor\u001b[0m\u001b[1;33m\u001b[0m\u001b[1;33m\u001b[0m\u001b[0m\n",
      "\u001b[1;31mOperationalError\u001b[0m: ('08001', u\"[08001] [WSock32 DLL] 10065 WSA E HostUnreach: The Teradata server can't currently be reached over this network (10065) (SQLDriverConnect)\")"
     ]
    }
   ],
   "source": [
    "import teradata\n",
    "import pandas as pd\n",
    "\n",
    "# pyodbc connection string\n",
    "#link = 'DRIVER={DRIVERNAME};DBCNAME={hostname};UID={uid};PWD={pwd}'.format(\n",
    "#                      DRIVERNAME='Teradata Database ODBC Driver 16.10',hostname='dwbdtest1r1e.wellpoint.com',\n",
    "#                      uid='DWTEST2COP1.CORP.ANTHEM.COM', Database='T10_EDW_ALLPHI_XM',Authentication='LDAP',\n",
    "#                      pwd='Windows09')\n",
    "\n",
    "conn = pyodbc.connect(DRIVER='Teradata Database ODBC Driver 16.10',DBCName='DWTEST2COP1.CORP.ANTHEM.COM',\n",
    "                      UID='ag28744', # Database='T1H_ETL_VIEWS_CDL_XM',\n",
    "                      Authentication='LDAP',\n",
    "                      PWD='Windows09')\n",
    "\n",
    "# Define Cursor\n",
    "cus=conn.cursor()\n",
    "\n",
    "query = \"select count(*) from T1H_ETL_VIEWS_CDL_XM.CDL_LOAD_LOG;\"\n",
    "\n",
    "# Execute SQL statement to get current datetime and store result in cursor\n",
    "cus.execute(query)\n",
    "\n",
    "# Display the content of cursor\n",
    "row = cus.fetchone()\n",
    "print(row)\n",
    "\n",
    "# Use Pandas to execute and retrieve results\n",
    "df = pd.read_sql(query, conn)\n",
    "print(df)"
   ]
  }
 ],
 "metadata": {
  "kernelspec": {
   "display_name": "Python 2",
   "language": "python",
   "name": "python2"
  },
  "language_info": {
   "codemirror_mode": {
    "name": "ipython",
    "version": 2
   },
   "file_extension": ".py",
   "mimetype": "text/x-python",
   "name": "python",
   "nbconvert_exporter": "python",
   "pygments_lexer": "ipython2",
   "version": "2.7.15"
  }
 },
 "nbformat": 4,
 "nbformat_minor": 2
}
